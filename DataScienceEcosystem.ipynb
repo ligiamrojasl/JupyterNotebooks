{
 "cells": [
  {
   "cell_type": "markdown",
   "id": "0ed9dd86-dd6c-4ba3-a44f-8e87b2aa34a7",
   "metadata": {},
   "source": [
    "# Data Science Tools and Ecosystem"
   ]
  },
  {
   "cell_type": "markdown",
   "id": "e9101a34-2cde-4656-a1d5-87d737dc0aca",
   "metadata": {},
   "source": [
    "## In this notebook, Data Science Tools and Ecosystem are summarized."
   ]
  },
  {
   "cell_type": "markdown",
   "id": "2848ad72-66bd-4246-82af-527b4363e620",
   "metadata": {},
   "source": [
    "**Objectives:**\n",
    "\n",
    "Some of the key takeaways from the course\n",
    "\n",
    "- List popular languages for Data Science  \n",
    "- Identify commonly used libraries in Data Science  \n",
    "- Perform basic arithmetic operations in Python  \n",
    "- Convert time units (minutes to hours) using Python  \n"
   ]
  },
  {
   "cell_type": "markdown",
   "id": "3f79fe4a-8a0f-4021-b58d-f1cf8bd67b45",
   "metadata": {},
   "source": [
    "### Some of the popular languages that Data Scientists use are:\n",
    "The three most commonly used programming languages for data science are:\n",
    "\n",
    "1. Python – Widely used due to its rich ecosystem of libraries like Pandas, NumPy, Scikit-learn, TensorFlow, and PyTorch.\n",
    "\n",
    "2. R – Popular in statistical computing and visualization, with libraries such as ggplot2, dplyr, and caret.\n",
    "\n",
    "3. SQL – Essential for data querying and manipulation in relational databases, often used alongside Python or R."
   ]
  },
  {
   "cell_type": "markdown",
   "id": "396e2e83-62fe-4930-87ab-a05203a8c15a",
   "metadata": {},
   "source": [
    "### Some of the commonly used libraries used by Data Scientists include:\n",
    "\n",
    "1. dplyr – Data manipulation (filter, mutate, summarize)\n",
    "2. jsonlite – Handling JSON data\n",
    "3. ggplot2 – Advanced data visualization (part of tidyverse)\n",
    "4. plotly – Interactive charts and graphs\n",
    "5. caret – Classification and Regression Training (ML model training & tuning)\n",
    "6. keras – Deep learning with TensorFlow backend\n"
   ]
  },
  {
   "cell_type": "markdown",
   "id": "77aa0713-bbcf-4194-92b3-ceacce7f1175",
   "metadata": {},
   "source": [
    "| ** Data Science Tools **    |\n",
    "|---------------------------|\n",
    "| Jupyter Notebook          |\n",
    "| RStudio                   |\n",
    "| Apache Zeppelin           |"
   ]
  },
  {
   "cell_type": "markdown",
   "id": "a9ed2a5c-e57b-4dce-bc65-8be48675ab0d",
   "metadata": {},
   "source": [
    "### Below are a few examples of evaluating arithmetic expressions in Python.\n"
   ]
  },
  {
   "cell_type": "code",
   "execution_count": 13,
   "id": "9078551e-3595-439d-9b2d-6936164f081a",
   "metadata": {},
   "outputs": [
    {
     "data": {
      "text/plain": [
       "17"
      ]
     },
     "execution_count": 13,
     "metadata": {},
     "output_type": "execute_result"
    }
   ],
   "source": [
    "# This a simple arithmetic expression to mutiply then add integers \n",
    "(3*4)+5"
   ]
  },
  {
   "cell_type": "code",
   "execution_count": 14,
   "id": "27a56279-fd0a-4cc6-9321-06def7f21342",
   "metadata": {},
   "outputs": [
    {
     "data": {
      "text/plain": [
       "3.3333333333333335"
      ]
     },
     "execution_count": 14,
     "metadata": {},
     "output_type": "execute_result"
    }
   ],
   "source": [
    "# This will convert 200 minutes to hours by diving by 60\n",
    "200 / 60"
   ]
  },
  {
   "cell_type": "markdown",
   "id": "772fae23-5213-4677-a231-5e5964747fe3",
   "metadata": {},
   "source": [
    "## Author\n",
    "Ligia Rojas"
   ]
  }
 ],
 "metadata": {
  "kernelspec": {
   "display_name": "Python 3 (ipykernel)",
   "language": "python",
   "name": "python3"
  },
  "language_info": {
   "codemirror_mode": {
    "name": "ipython",
    "version": 3
   },
   "file_extension": ".py",
   "mimetype": "text/x-python",
   "name": "python",
   "nbconvert_exporter": "python",
   "pygments_lexer": "ipython3",
   "version": "3.9.21"
  }
 },
 "nbformat": 4,
 "nbformat_minor": 5
}
